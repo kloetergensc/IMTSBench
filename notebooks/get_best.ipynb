{
 "cells": [
  {
   "cell_type": "code",
   "execution_count": 4,
   "metadata": {},
   "outputs": [],
   "source": [
    "import json\n",
    "import importlib\n",
    "import os\n",
    "time_unit_name = \"Time Unit\"\n",
    "entries = []\n",
    "for domain in os.listdir(\"../models\"):\n",
    "    for model in os.listdir(f\"../models/{domain}\"):\n",
    "        with open(f'../models/{domain}/{model}/best_config_top10.json') as f:\n",
    "            res_dict = json.load(f)\n",
    "            model_path = \"../models/\" + domain + \"/\" + model + \"/model.py\"\n",
    "            spec = importlib.util.spec_from_file_location(\"model_module\", model_path)\n",
    "            module = importlib.util.module_from_spec(spec)\n",
    "            spec.loader.exec_module(module)\n",
    "            res_dict[\"constants\"] = module.sizeConstants\n",
    "            res_dict[\"channel\"] = module.sizeStates\n",
    "            legend_states, legend_algebraic, legend_voi, legend_constants = module.createLegends()\n",
    "            res_dict[time_unit_name] =legend_voi\n",
    "            entries.append(res_dict)"
   ]
  },
  {
   "cell_type": "code",
   "execution_count": 5,
   "metadata": {},
   "outputs": [],
   "source": [
    "import pandas as pd\n",
    "df = pd.DataFrame(entries)\n",
    "df = df.drop_duplicates(\"model\")\n",
    "df = df.sort_values([\"high_score\"],ascending=False)\n",
    "df.head(50).to_csv(\"../resources/Top50_final.csv\")"
   ]
  }
 ],
 "metadata": {
  "kernelspec": {
   "display_name": "ml",
   "language": "python",
   "name": "python3"
  },
  "language_info": {
   "codemirror_mode": {
    "name": "ipython",
    "version": 3
   },
   "file_extension": ".py",
   "mimetype": "text/x-python",
   "name": "python",
   "nbconvert_exporter": "python",
   "pygments_lexer": "ipython3",
   "version": "3.10.12"
  }
 },
 "nbformat": 4,
 "nbformat_minor": 2
}
