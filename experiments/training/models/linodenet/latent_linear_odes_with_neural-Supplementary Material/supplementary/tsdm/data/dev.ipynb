{
 "cells": [
  {
   "cell_type": "code",
   "execution_count": 2,
   "metadata": {
    "collapsed": true
   },
   "outputs": [
    {
     "data": {
      "text/plain": "['__pycache__',\n 'TemporalFusionTransformerTable2.fwf',\n '__init__.py',\n 'TFT.csv']"
     },
     "execution_count": 2,
     "metadata": {},
     "output_type": "execute_result"
    }
   ],
   "source": [
    "import pandas\n",
    "from importlib import resources\n",
    "from tsdm.tasks import results\n",
    "\n",
    "list(resources.contents(results))"
   ]
  },
  {
   "cell_type": "code",
   "execution_count": 13,
   "outputs": [
    {
     "data": {
      "text/plain": "Model                    ARIMA  ConvTrans  CovTrans   DSSM  DeepAR    ETS  \\\nDataset     Test-Metric                                                     \nelectricity p50          0.154      0.059       NaN  0.083   0.075  0.102   \ntraffic     p50          0.223      0.122       NaN  0.167   0.161  0.236   \n\nModel                    MQRNN  Seq2Seq    TFT   TRMF  \nDataset     Test-Metric                                \nelectricity p50          0.077    0.067  0.055  0.084  \ntraffic     p50          0.117    0.105  0.095  0.186  ",
      "text/html": "<div>\n<style scoped>\n    .dataframe tbody tr th:only-of-type {\n        vertical-align: middle;\n    }\n\n    .dataframe tbody tr th {\n        vertical-align: top;\n    }\n\n    .dataframe thead th {\n        text-align: right;\n    }\n</style>\n<table border=\"1\" class=\"dataframe\">\n  <thead>\n    <tr style=\"text-align: right;\">\n      <th></th>\n      <th>Model</th>\n      <th>ARIMA</th>\n      <th>ConvTrans</th>\n      <th>CovTrans</th>\n      <th>DSSM</th>\n      <th>DeepAR</th>\n      <th>ETS</th>\n      <th>MQRNN</th>\n      <th>Seq2Seq</th>\n      <th>TFT</th>\n      <th>TRMF</th>\n    </tr>\n    <tr>\n      <th>Dataset</th>\n      <th>Test-Metric</th>\n      <th></th>\n      <th></th>\n      <th></th>\n      <th></th>\n      <th></th>\n      <th></th>\n      <th></th>\n      <th></th>\n      <th></th>\n      <th></th>\n    </tr>\n  </thead>\n  <tbody>\n    <tr>\n      <th>electricity</th>\n      <th>p50</th>\n      <td>0.154</td>\n      <td>0.059</td>\n      <td>NaN</td>\n      <td>0.083</td>\n      <td>0.075</td>\n      <td>0.102</td>\n      <td>0.077</td>\n      <td>0.067</td>\n      <td>0.055</td>\n      <td>0.084</td>\n    </tr>\n    <tr>\n      <th>traffic</th>\n      <th>p50</th>\n      <td>0.223</td>\n      <td>0.122</td>\n      <td>NaN</td>\n      <td>0.167</td>\n      <td>0.161</td>\n      <td>0.236</td>\n      <td>0.117</td>\n      <td>0.105</td>\n      <td>0.095</td>\n      <td>0.186</td>\n    </tr>\n  </tbody>\n</table>\n</div>"
     },
     "execution_count": 13,
     "metadata": {},
     "output_type": "execute_result"
    }
   ],
   "source": [
    "with resources.path(results, \"TemporalFusionTransformerTable2.fwf\") as path:\n",
    "    with open(path, \"r\", encoding=\"utf8\") as file:\n",
    "        df = pandas.read_fwf(file, sep=\";\")\n",
    "\n",
    "df = df.pivot(index=[\"Dataset\", \"Test-Metric\"], columns=\"Model\", values=\"Value\")\n",
    "df.loc[[(\"electricity\", \"p50\"), (\"traffic\", \"p50\")]]"
   ],
   "metadata": {
    "collapsed": false,
    "pycharm": {
     "name": "#%%\n"
    }
   }
  }
 ],
 "metadata": {
  "kernelspec": {
   "display_name": "Python 3",
   "language": "python",
   "name": "python3"
  },
  "language_info": {
   "codemirror_mode": {
    "name": "ipython",
    "version": 2
   },
   "file_extension": ".py",
   "mimetype": "text/x-python",
   "name": "python",
   "nbconvert_exporter": "python",
   "pygments_lexer": "ipython2",
   "version": "2.7.6"
  }
 },
 "nbformat": 4,
 "nbformat_minor": 0
}
