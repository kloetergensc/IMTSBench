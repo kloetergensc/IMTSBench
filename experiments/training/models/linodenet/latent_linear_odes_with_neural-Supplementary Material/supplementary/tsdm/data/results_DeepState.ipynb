{
 "cells": [
  {
   "cell_type": "markdown",
   "source": [
    "# DeepState Results"
   ],
   "metadata": {
    "collapsed": false
   }
  },
  {
   "cell_type": "code",
   "execution_count": 1,
   "outputs": [],
   "source": [
    "import pandas"
   ],
   "metadata": {
    "collapsed": false,
    "pycharm": {
     "name": "#%%\n"
    }
   }
  },
  {
   "cell_type": "markdown",
   "source": [
    "## Table 1"
   ],
   "metadata": {
    "collapsed": false,
    "pycharm": {
     "name": "#%% md\n"
    }
   }
  },
  {
   "cell_type": "code",
   "execution_count": 2,
   "outputs": [
    {
     "data": {
      "text/plain": "Observation-Horizon   14 days         21 days         28 days        \nTest-Metric           p50Loss p90Loss p50Loss p90Loss p50Loss p90Loss\nDataset     Model                                                    \nelectricity ARIMA       0.283   0.109   0.291   0.112   0.300   0.110\n            DeepAR      0.153   0.147   0.147   0.132   0.125   0.080\n            DeepState   0.087   0.050   0.085   0.052   0.085   0.057\n            ETS         0.121   0.101   0.130   0.110   0.130   0.110\ntraffic     ARIMA       0.492   0.280   0.492   0.289   0.501   0.298\n            DeepAR      0.177   0.153   0.126   0.096   0.219   0.138\n            DeepState   0.168   0.117   0.170   0.113   0.168   0.114\n            ETS         0.621   0.650   0.509   0.529   0.532   0.600",
      "text/html": "<div>\n<style scoped>\n    .dataframe tbody tr th:only-of-type {\n        vertical-align: middle;\n    }\n\n    .dataframe tbody tr th {\n        vertical-align: top;\n    }\n\n    .dataframe thead tr th {\n        text-align: left;\n    }\n\n    .dataframe thead tr:last-of-type th {\n        text-align: right;\n    }\n</style>\n<table border=\"1\" class=\"dataframe\">\n  <thead>\n    <tr>\n      <th></th>\n      <th>Observation-Horizon</th>\n      <th colspan=\"2\" halign=\"left\">14 days</th>\n      <th colspan=\"2\" halign=\"left\">21 days</th>\n      <th colspan=\"2\" halign=\"left\">28 days</th>\n    </tr>\n    <tr>\n      <th></th>\n      <th>Test-Metric</th>\n      <th>p50Loss</th>\n      <th>p90Loss</th>\n      <th>p50Loss</th>\n      <th>p90Loss</th>\n      <th>p50Loss</th>\n      <th>p90Loss</th>\n    </tr>\n    <tr>\n      <th>Dataset</th>\n      <th>Model</th>\n      <th></th>\n      <th></th>\n      <th></th>\n      <th></th>\n      <th></th>\n      <th></th>\n    </tr>\n  </thead>\n  <tbody>\n    <tr>\n      <th rowspan=\"4\" valign=\"top\">electricity</th>\n      <th>ARIMA</th>\n      <td>0.283</td>\n      <td>0.109</td>\n      <td>0.291</td>\n      <td>0.112</td>\n      <td>0.300</td>\n      <td>0.110</td>\n    </tr>\n    <tr>\n      <th>DeepAR</th>\n      <td>0.153</td>\n      <td>0.147</td>\n      <td>0.147</td>\n      <td>0.132</td>\n      <td>0.125</td>\n      <td>0.080</td>\n    </tr>\n    <tr>\n      <th>DeepState</th>\n      <td>0.087</td>\n      <td>0.050</td>\n      <td>0.085</td>\n      <td>0.052</td>\n      <td>0.085</td>\n      <td>0.057</td>\n    </tr>\n    <tr>\n      <th>ETS</th>\n      <td>0.121</td>\n      <td>0.101</td>\n      <td>0.130</td>\n      <td>0.110</td>\n      <td>0.130</td>\n      <td>0.110</td>\n    </tr>\n    <tr>\n      <th rowspan=\"4\" valign=\"top\">traffic</th>\n      <th>ARIMA</th>\n      <td>0.492</td>\n      <td>0.280</td>\n      <td>0.492</td>\n      <td>0.289</td>\n      <td>0.501</td>\n      <td>0.298</td>\n    </tr>\n    <tr>\n      <th>DeepAR</th>\n      <td>0.177</td>\n      <td>0.153</td>\n      <td>0.126</td>\n      <td>0.096</td>\n      <td>0.219</td>\n      <td>0.138</td>\n    </tr>\n    <tr>\n      <th>DeepState</th>\n      <td>0.168</td>\n      <td>0.117</td>\n      <td>0.170</td>\n      <td>0.113</td>\n      <td>0.168</td>\n      <td>0.114</td>\n    </tr>\n    <tr>\n      <th>ETS</th>\n      <td>0.621</td>\n      <td>0.650</td>\n      <td>0.509</td>\n      <td>0.529</td>\n      <td>0.532</td>\n      <td>0.600</td>\n    </tr>\n  </tbody>\n</table>\n</div>"
     },
     "execution_count": 2,
     "metadata": {},
     "output_type": "execute_result"
    }
   ],
   "source": [
    "df = pandas.read_fwf(\"results/DeepStateTable1.fwf\")\n",
    "df[\"Forecasting-Horizon\"] = pandas.to_timedelta(df[\"Forecasting-Horizon\"])\n",
    "df[\"Observation-Horizon\"] = pandas.to_timedelta(df[\"Observation-Horizon\"])\n",
    "df = df.set_index(\n",
    "    [\"Dataset\", \"Test-Metric\", \"Observation-Horizon\", \"Forecasting-Horizon\"]\n",
    ")\n",
    "df.columns.name = \"Model\"\n",
    "df = df.melt(ignore_index=False).reset_index()\n",
    "df.to_hdf(\"results/DeepState.h5\", key=\"Table1\", complevel=9, mode=\"w\", format=\"table\")\n",
    "df.pivot(\n",
    "    index=[\"Dataset\", \"Model\"],\n",
    "    columns=[\"Observation-Horizon\", \"Test-Metric\"],\n",
    "    values=\"value\",\n",
    ")"
   ],
   "metadata": {
    "collapsed": false,
    "pycharm": {
     "name": "#%%\n"
    }
   }
  },
  {
   "cell_type": "markdown",
   "source": [
    "## Table 2"
   ],
   "metadata": {
    "collapsed": false,
    "pycharm": {
     "name": "#%% md\n"
    }
   }
  },
  {
   "cell_type": "code",
   "execution_count": 3,
   "outputs": [
    {
     "data": {
      "text/plain": "Model       MatFact DeepAR        DeepState       \nTest-Metric     p50    p50    p90       p50    p90\nDataset                                           \nelectricity    0.16  0.075  0.040     0.083  0.056\ntraffic        0.20  0.161  0.099     0.167  0.113",
      "text/html": "<div>\n<style scoped>\n    .dataframe tbody tr th:only-of-type {\n        vertical-align: middle;\n    }\n\n    .dataframe tbody tr th {\n        vertical-align: top;\n    }\n\n    .dataframe thead tr th {\n        text-align: left;\n    }\n\n    .dataframe thead tr:last-of-type th {\n        text-align: right;\n    }\n</style>\n<table border=\"1\" class=\"dataframe\">\n  <thead>\n    <tr>\n      <th>Model</th>\n      <th>MatFact</th>\n      <th colspan=\"2\" halign=\"left\">DeepAR</th>\n      <th colspan=\"2\" halign=\"left\">DeepState</th>\n    </tr>\n    <tr>\n      <th>Test-Metric</th>\n      <th>p50</th>\n      <th>p50</th>\n      <th>p90</th>\n      <th>p50</th>\n      <th>p90</th>\n    </tr>\n    <tr>\n      <th>Dataset</th>\n      <th></th>\n      <th></th>\n      <th></th>\n      <th></th>\n      <th></th>\n    </tr>\n  </thead>\n  <tbody>\n    <tr>\n      <th>electricity</th>\n      <td>0.16</td>\n      <td>0.075</td>\n      <td>0.040</td>\n      <td>0.083</td>\n      <td>0.056</td>\n    </tr>\n    <tr>\n      <th>traffic</th>\n      <td>0.20</td>\n      <td>0.161</td>\n      <td>0.099</td>\n      <td>0.167</td>\n      <td>0.113</td>\n    </tr>\n  </tbody>\n</table>\n</div>"
     },
     "execution_count": 3,
     "metadata": {},
     "output_type": "execute_result"
    }
   ],
   "source": [
    "df = pandas.read_fwf(\"results/DeepStateTable2.fwf\", header=[0, 1], index_col=0)\n",
    "df = df.melt(ignore_index=False).reset_index()\n",
    "df.to_hdf(\"results/DeepState.h5\", key=\"Table2\", complevel=9, mode=\"a\", format=\"table\")\n",
    "df2 = pandas.read_hdf(\"results/DeepState.h5\", key=\"Table2\")\n",
    "pandas.testing.assert_frame_equal(df, df2)\n",
    "df.pivot(index=[\"Dataset\"], columns=[\"Model\", \"Test-Metric\"], values=\"value\")"
   ],
   "metadata": {
    "collapsed": false,
    "pycharm": {
     "name": "#%%\n"
    }
   }
  },
  {
   "cell_type": "markdown",
   "source": [
    "## Table 3"
   ],
   "metadata": {
    "collapsed": false
   }
  },
  {
   "cell_type": "code",
   "execution_count": 4,
   "outputs": [
    {
     "data": {
      "text/plain": "Model                           ARIMA  DeepAR  DeepState     ETS\nDataset           Test-Metric                                   \nM4-Hourly         p50          0.0520  0.0900     0.0440  0.0540\n                  p90          0.0354  0.0304     0.0266  0.0267\nparts             p50          1.6444  1.2730     1.4700  1.6390\n                  p90          1.0664  1.0860     0.9350  1.0086\ntourism-Monthly   p50          0.0999  0.1000     0.1380  0.0930\n                  p90          0.0580  0.0590     0.0670  0.0540\ntourism-Quarterly p50          0.1241  0.1100     0.0980  0.1050\n                  p90          0.0620  0.0620     0.0470  0.0550",
      "text/html": "<div>\n<style scoped>\n    .dataframe tbody tr th:only-of-type {\n        vertical-align: middle;\n    }\n\n    .dataframe tbody tr th {\n        vertical-align: top;\n    }\n\n    .dataframe thead th {\n        text-align: right;\n    }\n</style>\n<table border=\"1\" class=\"dataframe\">\n  <thead>\n    <tr style=\"text-align: right;\">\n      <th></th>\n      <th>Model</th>\n      <th>ARIMA</th>\n      <th>DeepAR</th>\n      <th>DeepState</th>\n      <th>ETS</th>\n    </tr>\n    <tr>\n      <th>Dataset</th>\n      <th>Test-Metric</th>\n      <th></th>\n      <th></th>\n      <th></th>\n      <th></th>\n    </tr>\n  </thead>\n  <tbody>\n    <tr>\n      <th rowspan=\"2\" valign=\"top\">M4-Hourly</th>\n      <th>p50</th>\n      <td>0.0520</td>\n      <td>0.0900</td>\n      <td>0.0440</td>\n      <td>0.0540</td>\n    </tr>\n    <tr>\n      <th>p90</th>\n      <td>0.0354</td>\n      <td>0.0304</td>\n      <td>0.0266</td>\n      <td>0.0267</td>\n    </tr>\n    <tr>\n      <th rowspan=\"2\" valign=\"top\">parts</th>\n      <th>p50</th>\n      <td>1.6444</td>\n      <td>1.2730</td>\n      <td>1.4700</td>\n      <td>1.6390</td>\n    </tr>\n    <tr>\n      <th>p90</th>\n      <td>1.0664</td>\n      <td>1.0860</td>\n      <td>0.9350</td>\n      <td>1.0086</td>\n    </tr>\n    <tr>\n      <th rowspan=\"2\" valign=\"top\">tourism-Monthly</th>\n      <th>p50</th>\n      <td>0.0999</td>\n      <td>0.1000</td>\n      <td>0.1380</td>\n      <td>0.0930</td>\n    </tr>\n    <tr>\n      <th>p90</th>\n      <td>0.0580</td>\n      <td>0.0590</td>\n      <td>0.0670</td>\n      <td>0.0540</td>\n    </tr>\n    <tr>\n      <th rowspan=\"2\" valign=\"top\">tourism-Quarterly</th>\n      <th>p50</th>\n      <td>0.1241</td>\n      <td>0.1100</td>\n      <td>0.0980</td>\n      <td>0.1050</td>\n    </tr>\n    <tr>\n      <th>p90</th>\n      <td>0.0620</td>\n      <td>0.0620</td>\n      <td>0.0470</td>\n      <td>0.0550</td>\n    </tr>\n  </tbody>\n</table>\n</div>"
     },
     "execution_count": 4,
     "metadata": {},
     "output_type": "execute_result"
    }
   ],
   "source": [
    "df = pandas.read_fwf(\"results/DeepStateTable3.fwf\", header=[0, 1], index_col=0)\n",
    "df = df.melt(ignore_index=False).reset_index()\n",
    "df.to_hdf(\"results/DeepState.h5\", key=\"Table3\", complevel=9, mode=\"a\", format=\"table\")\n",
    "df2 = pandas.read_hdf(\"results/DeepState.h5\", key=\"Table3\")\n",
    "pandas.testing.assert_frame_equal(df, df2)\n",
    "df.pivot(index=[\"Dataset\", \"Test-Metric\"], columns=\"Model\", values=\"value\")"
   ],
   "metadata": {
    "collapsed": false,
    "pycharm": {
     "name": "#%%\n"
    }
   }
  }
 ],
 "metadata": {
  "kernelspec": {
   "display_name": "Python 3",
   "language": "python",
   "name": "python3"
  },
  "language_info": {
   "codemirror_mode": {
    "name": "ipython",
    "version": 3
   },
   "file_extension": ".py",
   "mimetype": "text/x-python",
   "name": "python",
   "nbconvert_exporter": "python",
   "pygments_lexer": "ipython3",
   "version": "3.6.8"
  }
 },
 "nbformat": 4,
 "nbformat_minor": 1
}
